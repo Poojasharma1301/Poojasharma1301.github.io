{
  "nbformat": 4,
  "nbformat_minor": 0,
  "metadata": {
    "kernelspec": {
      "display_name": "Python 3",
      "language": "python",
      "name": "python3"
    },
    "language_info": {
      "codemirror_mode": {
        "name": "ipython",
        "version": 3
      },
      "file_extension": ".py",
      "mimetype": "text/x-python",
      "name": "python",
      "nbconvert_exporter": "python",
      "pygments_lexer": "ipython3",
      "version": "3.8.5"
    },
    "colab": {
      "name": "Sample_hackthon.ipynb",
      "provenance": [],
      "include_colab_link": true
    }
  },
  "cells": [
    {
      "cell_type": "markdown",
      "metadata": {
        "id": "view-in-github",
        "colab_type": "text"
      },
      "source": [
        "<a href=\"https://colab.research.google.com/github/Poojasharma1301/Poojasharma1301.github.io/blob/master/Sample_hackthon.ipynb\" target=\"_parent\"><img src=\"https://colab.research.google.com/assets/colab-badge.svg\" alt=\"Open In Colab\"/></a>"
      ]
    },
    {
      "cell_type": "code",
      "metadata": {
        "id": "hbuf0TxlX2iY"
      },
      "source": [
        "#Importing all the required libraries\n",
        "import pandas as pd\n",
        "import numpy as np\n",
        "import matplotlib.pyplot as plt\n",
        "%matplotlib inline\n",
        "import seaborn as sns\n",
        "\n",
        "#To ignore the warnings \n",
        "import warnings as wg\n",
        "wg.filterwarnings(\"ignore\")"
      ],
      "execution_count": 1,
      "outputs": []
    },
    {
      "cell_type": "code",
      "metadata": {
        "colab": {
          "resources": {
            "http://localhost:8080/nbextensions/google.colab/files.js": {
              "data": "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",
              "ok": true,
              "headers": [
                [
                  "content-type",
                  "application/javascript"
                ]
              ],
              "status": 200,
              "status_text": ""
            }
          },
          "base_uri": "https://localhost:8080/",
          "height": 72
        },
        "id": "vONWW8pFX2i1",
        "outputId": "7530a13c-0c1c-4647-aaa2-b9bc61dcd738"
      },
      "source": [
        "from google.colab import files\n",
        "uploaded = files.upload()"
      ],
      "execution_count": 3,
      "outputs": [
        {
          "output_type": "display_data",
          "data": {
            "text/html": [
              "\n",
              "     <input type=\"file\" id=\"files-a266a0ac-568a-4650-b2e0-3a0e6bb54cd1\" name=\"files[]\" multiple disabled\n",
              "        style=\"border:none\" />\n",
              "     <output id=\"result-a266a0ac-568a-4650-b2e0-3a0e6bb54cd1\">\n",
              "      Upload widget is only available when the cell has been executed in the\n",
              "      current browser session. Please rerun this cell to enable.\n",
              "      </output>\n",
              "      <script src=\"/nbextensions/google.colab/files.js\"></script> "
            ],
            "text/plain": [
              "<IPython.core.display.HTML object>"
            ]
          },
          "metadata": {
            "tags": []
          }
        },
        {
          "output_type": "stream",
          "text": [
            "Saving train.csv to train (1).csv\n"
          ],
          "name": "stdout"
        }
      ]
    },
    {
      "cell_type": "code",
      "metadata": {
        "id": "86D8J5bfX2i2"
      },
      "source": [
        "train = pd.read_csv(\"train.csv\")"
      ],
      "execution_count": 4,
      "outputs": []
    },
    {
      "cell_type": "code",
      "metadata": {
        "colab": {
          "base_uri": "https://localhost:8080/",
          "height": 309
        },
        "id": "tGdOX5nNX2i3",
        "outputId": "d5b7381a-182a-4dd8-ad2b-043da70500c5"
      },
      "source": [
        "train.head()"
      ],
      "execution_count": 5,
      "outputs": [
        {
          "output_type": "execute_result",
          "data": {
            "text/html": [
              "<div>\n",
              "<style scoped>\n",
              "    .dataframe tbody tr th:only-of-type {\n",
              "        vertical-align: middle;\n",
              "    }\n",
              "\n",
              "    .dataframe tbody tr th {\n",
              "        vertical-align: top;\n",
              "    }\n",
              "\n",
              "    .dataframe thead th {\n",
              "        text-align: right;\n",
              "    }\n",
              "</style>\n",
              "<table border=\"1\" class=\"dataframe\">\n",
              "  <thead>\n",
              "    <tr style=\"text-align: right;\">\n",
              "      <th></th>\n",
              "      <th>ID</th>\n",
              "      <th>sex</th>\n",
              "      <th>Aged</th>\n",
              "      <th>Married</th>\n",
              "      <th>TotalDependents</th>\n",
              "      <th>ServiceSpan</th>\n",
              "      <th>MobileService</th>\n",
              "      <th>4GService</th>\n",
              "      <th>CyberProtection</th>\n",
              "      <th>HardwareSupport</th>\n",
              "      <th>TechnicalAssistance</th>\n",
              "      <th>FilmSubscription</th>\n",
              "      <th>SettlementProcess</th>\n",
              "      <th>QuarterlyPayment</th>\n",
              "      <th>GrandPayment</th>\n",
              "      <th>CustomerAttrition</th>\n",
              "    </tr>\n",
              "  </thead>\n",
              "  <tbody>\n",
              "    <tr>\n",
              "      <th>0</th>\n",
              "      <td>B60LHTZLLPFU4IULNPUF</td>\n",
              "      <td>Female</td>\n",
              "      <td>No</td>\n",
              "      <td>No</td>\n",
              "      <td>Yes</td>\n",
              "      <td>48</td>\n",
              "      <td>Yes</td>\n",
              "      <td>Wifi Broadband</td>\n",
              "      <td>No</td>\n",
              "      <td>Yes</td>\n",
              "      <td>Yes</td>\n",
              "      <td>No</td>\n",
              "      <td>Check</td>\n",
              "      <td>96.259802</td>\n",
              "      <td>4628.129119</td>\n",
              "      <td>Yes</td>\n",
              "    </tr>\n",
              "    <tr>\n",
              "      <th>1</th>\n",
              "      <td>1RUJ7ONYZHYTWKOKO1SD</td>\n",
              "      <td>Male</td>\n",
              "      <td>No</td>\n",
              "      <td>Yes</td>\n",
              "      <td>No</td>\n",
              "      <td>45</td>\n",
              "      <td>Yes</td>\n",
              "      <td>Wifi Broadband</td>\n",
              "      <td>No</td>\n",
              "      <td>No</td>\n",
              "      <td>No</td>\n",
              "      <td>Yes</td>\n",
              "      <td>Bank</td>\n",
              "      <td>18.876470</td>\n",
              "      <td>922.085998</td>\n",
              "      <td>No</td>\n",
              "    </tr>\n",
              "    <tr>\n",
              "      <th>2</th>\n",
              "      <td>DZ9EEOQWSN0MYCBUPAM5</td>\n",
              "      <td>Male</td>\n",
              "      <td>Yes</td>\n",
              "      <td>Yes</td>\n",
              "      <td>No</td>\n",
              "      <td>59</td>\n",
              "      <td>Yes</td>\n",
              "      <td>Wifi Broadband</td>\n",
              "      <td>Yes</td>\n",
              "      <td>No</td>\n",
              "      <td>Yes</td>\n",
              "      <td>No</td>\n",
              "      <td>Card</td>\n",
              "      <td>106.016057</td>\n",
              "      <td>6205.891129</td>\n",
              "      <td>Yes</td>\n",
              "    </tr>\n",
              "    <tr>\n",
              "      <th>3</th>\n",
              "      <td>YZ43L1UQUQACTL1PXXZG</td>\n",
              "      <td>Male</td>\n",
              "      <td>No</td>\n",
              "      <td>No</td>\n",
              "      <td>No</td>\n",
              "      <td>14</td>\n",
              "      <td>Yes</td>\n",
              "      <td>Wifi Broadband</td>\n",
              "      <td>No</td>\n",
              "      <td>No</td>\n",
              "      <td>No</td>\n",
              "      <td>No</td>\n",
              "      <td>Check</td>\n",
              "      <td>80.108839</td>\n",
              "      <td>1248.655391</td>\n",
              "      <td>No</td>\n",
              "    </tr>\n",
              "    <tr>\n",
              "      <th>4</th>\n",
              "      <td>6P28152QGF60PDLSCB9M</td>\n",
              "      <td>Female</td>\n",
              "      <td>No</td>\n",
              "      <td>Yes</td>\n",
              "      <td>Yes</td>\n",
              "      <td>25</td>\n",
              "      <td>Yes</td>\n",
              "      <td>Wifi Broadband</td>\n",
              "      <td>No</td>\n",
              "      <td>Yes</td>\n",
              "      <td>No</td>\n",
              "      <td>Yes</td>\n",
              "      <td>Check</td>\n",
              "      <td>51.529773</td>\n",
              "      <td>1285.321277</td>\n",
              "      <td>No</td>\n",
              "    </tr>\n",
              "  </tbody>\n",
              "</table>\n",
              "</div>"
            ],
            "text/plain": [
              "                     ID     sex  ... GrandPayment CustomerAttrition\n",
              "0  B60LHTZLLPFU4IULNPUF  Female  ...  4628.129119               Yes\n",
              "1  1RUJ7ONYZHYTWKOKO1SD    Male  ...   922.085998                No\n",
              "2  DZ9EEOQWSN0MYCBUPAM5    Male  ...  6205.891129               Yes\n",
              "3  YZ43L1UQUQACTL1PXXZG    Male  ...  1248.655391                No\n",
              "4  6P28152QGF60PDLSCB9M  Female  ...  1285.321277                No\n",
              "\n",
              "[5 rows x 16 columns]"
            ]
          },
          "metadata": {
            "tags": []
          },
          "execution_count": 5
        }
      ]
    },
    {
      "cell_type": "code",
      "metadata": {
        "colab": {
          "base_uri": "https://localhost:8080/"
        },
        "id": "Y7IxKc0VX2i5",
        "outputId": "2b4a0248-b55d-420c-f2d8-b730d83f1fd4"
      },
      "source": [
        "train.info()"
      ],
      "execution_count": 6,
      "outputs": [
        {
          "output_type": "stream",
          "text": [
            "<class 'pandas.core.frame.DataFrame'>\n",
            "RangeIndex: 6338 entries, 0 to 6337\n",
            "Data columns (total 16 columns):\n",
            " #   Column               Non-Null Count  Dtype  \n",
            "---  ------               --------------  -----  \n",
            " 0   ID                   6338 non-null   object \n",
            " 1   sex                  6338 non-null   object \n",
            " 2   Aged                 6338 non-null   object \n",
            " 3   Married              6338 non-null   object \n",
            " 4   TotalDependents      6338 non-null   object \n",
            " 5   ServiceSpan          6338 non-null   int64  \n",
            " 6   MobileService        6338 non-null   object \n",
            " 7   4GService            6338 non-null   object \n",
            " 8   CyberProtection      6338 non-null   object \n",
            " 9   HardwareSupport      6338 non-null   object \n",
            " 10  TechnicalAssistance  6338 non-null   object \n",
            " 11  FilmSubscription     6338 non-null   object \n",
            " 12  SettlementProcess    6338 non-null   object \n",
            " 13  QuarterlyPayment     6338 non-null   float64\n",
            " 14  GrandPayment         6328 non-null   float64\n",
            " 15  CustomerAttrition    6338 non-null   object \n",
            "dtypes: float64(2), int64(1), object(13)\n",
            "memory usage: 792.4+ KB\n"
          ],
          "name": "stdout"
        }
      ]
    },
    {
      "cell_type": "code",
      "metadata": {
        "colab": {
          "base_uri": "https://localhost:8080/",
          "height": 297
        },
        "id": "-Tq4Amn0X2i5",
        "outputId": "febf4966-be83-422f-c74c-10b00a3d115d"
      },
      "source": [
        "train.describe()"
      ],
      "execution_count": 8,
      "outputs": [
        {
          "output_type": "execute_result",
          "data": {
            "text/html": [
              "<div>\n",
              "<style scoped>\n",
              "    .dataframe tbody tr th:only-of-type {\n",
              "        vertical-align: middle;\n",
              "    }\n",
              "\n",
              "    .dataframe tbody tr th {\n",
              "        vertical-align: top;\n",
              "    }\n",
              "\n",
              "    .dataframe thead th {\n",
              "        text-align: right;\n",
              "    }\n",
              "</style>\n",
              "<table border=\"1\" class=\"dataframe\">\n",
              "  <thead>\n",
              "    <tr style=\"text-align: right;\">\n",
              "      <th></th>\n",
              "      <th>ServiceSpan</th>\n",
              "      <th>QuarterlyPayment</th>\n",
              "      <th>GrandPayment</th>\n",
              "    </tr>\n",
              "  </thead>\n",
              "  <tbody>\n",
              "    <tr>\n",
              "      <th>count</th>\n",
              "      <td>6338.000000</td>\n",
              "      <td>6338.000000</td>\n",
              "      <td>6328.000000</td>\n",
              "    </tr>\n",
              "    <tr>\n",
              "      <th>mean</th>\n",
              "      <td>31.946040</td>\n",
              "      <td>64.814490</td>\n",
              "      <td>2290.544207</td>\n",
              "    </tr>\n",
              "    <tr>\n",
              "      <th>std</th>\n",
              "      <td>24.559659</td>\n",
              "      <td>30.191091</td>\n",
              "      <td>2265.181098</td>\n",
              "    </tr>\n",
              "    <tr>\n",
              "      <th>min</th>\n",
              "      <td>-2.000000</td>\n",
              "      <td>16.504109</td>\n",
              "      <td>16.297961</td>\n",
              "    </tr>\n",
              "    <tr>\n",
              "      <th>25%</th>\n",
              "      <td>8.000000</td>\n",
              "      <td>35.645524</td>\n",
              "      <td>401.849530</td>\n",
              "    </tr>\n",
              "    <tr>\n",
              "      <th>50%</th>\n",
              "      <td>29.000000</td>\n",
              "      <td>70.534085</td>\n",
              "      <td>1407.589119</td>\n",
              "    </tr>\n",
              "    <tr>\n",
              "      <th>75%</th>\n",
              "      <td>55.000000</td>\n",
              "      <td>90.058498</td>\n",
              "      <td>3823.855846</td>\n",
              "    </tr>\n",
              "    <tr>\n",
              "      <th>max</th>\n",
              "      <td>73.000000</td>\n",
              "      <td>120.159190</td>\n",
              "      <td>8685.848657</td>\n",
              "    </tr>\n",
              "  </tbody>\n",
              "</table>\n",
              "</div>"
            ],
            "text/plain": [
              "       ServiceSpan  QuarterlyPayment  GrandPayment\n",
              "count  6338.000000       6338.000000   6328.000000\n",
              "mean     31.946040         64.814490   2290.544207\n",
              "std      24.559659         30.191091   2265.181098\n",
              "min      -2.000000         16.504109     16.297961\n",
              "25%       8.000000         35.645524    401.849530\n",
              "50%      29.000000         70.534085   1407.589119\n",
              "75%      55.000000         90.058498   3823.855846\n",
              "max      73.000000        120.159190   8685.848657"
            ]
          },
          "metadata": {
            "tags": []
          },
          "execution_count": 8
        }
      ]
    },
    {
      "cell_type": "code",
      "metadata": {
        "colab": {
          "base_uri": "https://localhost:8080/"
        },
        "id": "nFdBxS57X2i6",
        "outputId": "cae24396-aec6-403d-ef8b-07b43ef0b5e3"
      },
      "source": [
        "#Now we will check if our dataset contains null or missings values\n",
        "train.isnull().sum()"
      ],
      "execution_count": 9,
      "outputs": [
        {
          "output_type": "execute_result",
          "data": {
            "text/plain": [
              "ID                      0\n",
              "sex                     0\n",
              "Aged                    0\n",
              "Married                 0\n",
              "TotalDependents         0\n",
              "ServiceSpan             0\n",
              "MobileService           0\n",
              "4GService               0\n",
              "CyberProtection         0\n",
              "HardwareSupport         0\n",
              "TechnicalAssistance     0\n",
              "FilmSubscription        0\n",
              "SettlementProcess       0\n",
              "QuarterlyPayment        0\n",
              "GrandPayment           10\n",
              "CustomerAttrition       0\n",
              "dtype: int64"
            ]
          },
          "metadata": {
            "tags": []
          },
          "execution_count": 9
        }
      ]
    },
    {
      "cell_type": "code",
      "metadata": {
        "colab": {
          "base_uri": "https://localhost:8080/",
          "height": 142
        },
        "id": "bvb4WyAiX2i7",
        "outputId": "74e8c5ae-3c2b-449c-cd03-600afdc2a7ff"
      },
      "source": [
        "#we can also use .corr to determine the correlation between the variables\n",
        "train.corr()"
      ],
      "execution_count": 10,
      "outputs": [
        {
          "output_type": "execute_result",
          "data": {
            "text/html": [
              "<div>\n",
              "<style scoped>\n",
              "    .dataframe tbody tr th:only-of-type {\n",
              "        vertical-align: middle;\n",
              "    }\n",
              "\n",
              "    .dataframe tbody tr th {\n",
              "        vertical-align: top;\n",
              "    }\n",
              "\n",
              "    .dataframe thead th {\n",
              "        text-align: right;\n",
              "    }\n",
              "</style>\n",
              "<table border=\"1\" class=\"dataframe\">\n",
              "  <thead>\n",
              "    <tr style=\"text-align: right;\">\n",
              "      <th></th>\n",
              "      <th>ServiceSpan</th>\n",
              "      <th>QuarterlyPayment</th>\n",
              "      <th>GrandPayment</th>\n",
              "    </tr>\n",
              "  </thead>\n",
              "  <tbody>\n",
              "    <tr>\n",
              "      <th>ServiceSpan</th>\n",
              "      <td>1.000000</td>\n",
              "      <td>0.249470</td>\n",
              "      <td>0.824522</td>\n",
              "    </tr>\n",
              "    <tr>\n",
              "      <th>QuarterlyPayment</th>\n",
              "      <td>0.249470</td>\n",
              "      <td>1.000000</td>\n",
              "      <td>0.652655</td>\n",
              "    </tr>\n",
              "    <tr>\n",
              "      <th>GrandPayment</th>\n",
              "      <td>0.824522</td>\n",
              "      <td>0.652655</td>\n",
              "      <td>1.000000</td>\n",
              "    </tr>\n",
              "  </tbody>\n",
              "</table>\n",
              "</div>"
            ],
            "text/plain": [
              "                  ServiceSpan  QuarterlyPayment  GrandPayment\n",
              "ServiceSpan          1.000000          0.249470      0.824522\n",
              "QuarterlyPayment     0.249470          1.000000      0.652655\n",
              "GrandPayment         0.824522          0.652655      1.000000"
            ]
          },
          "metadata": {
            "tags": []
          },
          "execution_count": 10
        }
      ]
    },
    {
      "cell_type": "code",
      "metadata": {
        "colab": {
          "base_uri": "https://localhost:8080/"
        },
        "id": "bWbE_AEbX2i8",
        "outputId": "c4a87685-44d4-49b3-b141-3ca108b3c585"
      },
      "source": [
        "train.dtypes"
      ],
      "execution_count": 11,
      "outputs": [
        {
          "output_type": "execute_result",
          "data": {
            "text/plain": [
              "ID                      object\n",
              "sex                     object\n",
              "Aged                    object\n",
              "Married                 object\n",
              "TotalDependents         object\n",
              "ServiceSpan              int64\n",
              "MobileService           object\n",
              "4GService               object\n",
              "CyberProtection         object\n",
              "HardwareSupport         object\n",
              "TechnicalAssistance     object\n",
              "FilmSubscription        object\n",
              "SettlementProcess       object\n",
              "QuarterlyPayment       float64\n",
              "GrandPayment           float64\n",
              "CustomerAttrition       object\n",
              "dtype: object"
            ]
          },
          "metadata": {
            "tags": []
          },
          "execution_count": 11
        }
      ]
    },
    {
      "cell_type": "code",
      "metadata": {
        "id": "ZfNdKtyCX2i9"
      },
      "source": [
        "def print_unique_col_values(train):\n",
        "       for column in train:\n",
        "            if train[column].dtypes=='object':\n",
        "                print(f'{column}: {train[column].unique()}')"
      ],
      "execution_count": 13,
      "outputs": []
    },
    {
      "cell_type": "code",
      "metadata": {
        "colab": {
          "base_uri": "https://localhost:8080/"
        },
        "id": "5htZwWL0X2i9",
        "outputId": "7c5d6773-50be-47a9-a92e-45f0fc78e1ea"
      },
      "source": [
        "print_unique_col_values(train)"
      ],
      "execution_count": 14,
      "outputs": [
        {
          "output_type": "stream",
          "text": [
            "ID: ['B60LHTZLLPFU4IULNPUF' '1RUJ7ONYZHYTWKOKO1SD' 'DZ9EEOQWSN0MYCBUPAM5' ...\n",
            " 'ZBBW7H8AYLZJ2HK5TBBJ' 'BUE75NSSLT2S2URTKZRN' 'IRFAYIAO820RIX2GUFFF']\n",
            "sex: ['Female' 'Male']\n",
            "Aged: ['No' 'Yes']\n",
            "Married: ['No' 'Yes']\n",
            "TotalDependents: ['Yes' 'No']\n",
            "MobileService: ['Yes' 'No']\n",
            "4GService: ['Wifi Broadband' 'Satellite Broadband' 'No']\n",
            "CyberProtection: ['No' 'Yes']\n",
            "HardwareSupport: ['Yes' 'No']\n",
            "TechnicalAssistance: ['Yes' 'No']\n",
            "FilmSubscription: ['No' 'Yes']\n",
            "SettlementProcess: ['Check' 'Bank' 'Card' 'Electronic']\n",
            "CustomerAttrition: ['Yes' 'No']\n"
          ],
          "name": "stdout"
        }
      ]
    },
    {
      "cell_type": "code",
      "metadata": {
        "id": "HYv6eufNX2i-"
      },
      "source": [
        "yes_no_columns = ['Aged','Married','TotalDependents','MobileService','CyberProtection','HardwareSupport','TechnicalAssistance',\n",
        "                'FilmSubscription','CustomerAttrition' ]\n",
        "for col in yes_no_columns:\n",
        "    train[col].replace({'Yes': 1,'No': 0},inplace=True)"
      ],
      "execution_count": 15,
      "outputs": []
    },
    {
      "cell_type": "code",
      "metadata": {
        "colab": {
          "base_uri": "https://localhost:8080/"
        },
        "id": "T6hZVMX5X2i_",
        "outputId": "3438bcad-15cc-4d98-dfe5-48b6e2932669"
      },
      "source": [
        "train['sex'].replace({'Female':1,'Male':0},inplace=True)\n",
        "train.sex.unique()"
      ],
      "execution_count": 16,
      "outputs": [
        {
          "output_type": "execute_result",
          "data": {
            "text/plain": [
              "array([1, 0])"
            ]
          },
          "metadata": {
            "tags": []
          },
          "execution_count": 16
        }
      ]
    },
    {
      "cell_type": "code",
      "metadata": {
        "colab": {
          "base_uri": "https://localhost:8080/"
        },
        "id": "tc6txrmmX2i_",
        "outputId": "1a94a2fa-5ebf-4d5f-85cb-93558cd754b8"
      },
      "source": [
        "train.dtypes"
      ],
      "execution_count": 17,
      "outputs": [
        {
          "output_type": "execute_result",
          "data": {
            "text/plain": [
              "ID                      object\n",
              "sex                      int64\n",
              "Aged                     int64\n",
              "Married                  int64\n",
              "TotalDependents          int64\n",
              "ServiceSpan              int64\n",
              "MobileService            int64\n",
              "4GService               object\n",
              "CyberProtection          int64\n",
              "HardwareSupport          int64\n",
              "TechnicalAssistance      int64\n",
              "FilmSubscription         int64\n",
              "SettlementProcess       object\n",
              "QuarterlyPayment       float64\n",
              "GrandPayment           float64\n",
              "CustomerAttrition        int64\n",
              "dtype: object"
            ]
          },
          "metadata": {
            "tags": []
          },
          "execution_count": 17
        }
      ]
    },
    {
      "cell_type": "code",
      "metadata": {
        "colab": {
          "base_uri": "https://localhost:8080/"
        },
        "id": "_Gp8sggFX2jA",
        "outputId": "e9173646-5969-4198-d70f-9e4a4f0718de"
      },
      "source": [
        "train1 = pd.get_dummies(data=train, columns=['4GService','SettlementProcess'])\n",
        "train1.columns"
      ],
      "execution_count": 18,
      "outputs": [
        {
          "output_type": "execute_result",
          "data": {
            "text/plain": [
              "Index(['ID', 'sex', 'Aged', 'Married', 'TotalDependents', 'ServiceSpan',\n",
              "       'MobileService', 'CyberProtection', 'HardwareSupport',\n",
              "       'TechnicalAssistance', 'FilmSubscription', 'QuarterlyPayment',\n",
              "       'GrandPayment', 'CustomerAttrition', '4GService_No',\n",
              "       '4GService_Satellite Broadband', '4GService_Wifi Broadband',\n",
              "       'SettlementProcess_Bank', 'SettlementProcess_Card',\n",
              "       'SettlementProcess_Check', 'SettlementProcess_Electronic'],\n",
              "      dtype='object')"
            ]
          },
          "metadata": {
            "tags": []
          },
          "execution_count": 18
        }
      ]
    },
    {
      "cell_type": "code",
      "metadata": {
        "colab": {
          "base_uri": "https://localhost:8080/"
        },
        "id": "5zhxKPvvX2jA",
        "outputId": "7940dc81-588d-4c96-cd97-b421d1465c61"
      },
      "source": [
        "train1.dtypes"
      ],
      "execution_count": 19,
      "outputs": [
        {
          "output_type": "execute_result",
          "data": {
            "text/plain": [
              "ID                                object\n",
              "sex                                int64\n",
              "Aged                               int64\n",
              "Married                            int64\n",
              "TotalDependents                    int64\n",
              "ServiceSpan                        int64\n",
              "MobileService                      int64\n",
              "CyberProtection                    int64\n",
              "HardwareSupport                    int64\n",
              "TechnicalAssistance                int64\n",
              "FilmSubscription                   int64\n",
              "QuarterlyPayment                 float64\n",
              "GrandPayment                     float64\n",
              "CustomerAttrition                  int64\n",
              "4GService_No                       uint8\n",
              "4GService_Satellite Broadband      uint8\n",
              "4GService_Wifi Broadband           uint8\n",
              "SettlementProcess_Bank             uint8\n",
              "SettlementProcess_Card             uint8\n",
              "SettlementProcess_Check            uint8\n",
              "SettlementProcess_Electronic       uint8\n",
              "dtype: object"
            ]
          },
          "metadata": {
            "tags": []
          },
          "execution_count": 19
        }
      ]
    },
    {
      "cell_type": "code",
      "metadata": {
        "id": "HPq6fIFcX2jB"
      },
      "source": [
        "mean_value=train1['GrandPayment'].mean()\n",
        "train1['GrandPayment'].fillna(value=mean_value,inplace=True)"
      ],
      "execution_count": 20,
      "outputs": []
    },
    {
      "cell_type": "code",
      "metadata": {
        "colab": {
          "base_uri": "https://localhost:8080/"
        },
        "id": "ZEB-s_zcX2jB",
        "outputId": "d3214ae4-62ab-4d44-a19f-8e38b961b8d4"
      },
      "source": [
        "train1.isnull().sum()"
      ],
      "execution_count": 21,
      "outputs": [
        {
          "output_type": "execute_result",
          "data": {
            "text/plain": [
              "ID                               0\n",
              "sex                              0\n",
              "Aged                             0\n",
              "Married                          0\n",
              "TotalDependents                  0\n",
              "ServiceSpan                      0\n",
              "MobileService                    0\n",
              "CyberProtection                  0\n",
              "HardwareSupport                  0\n",
              "TechnicalAssistance              0\n",
              "FilmSubscription                 0\n",
              "QuarterlyPayment                 0\n",
              "GrandPayment                     0\n",
              "CustomerAttrition                0\n",
              "4GService_No                     0\n",
              "4GService_Satellite Broadband    0\n",
              "4GService_Wifi Broadband         0\n",
              "SettlementProcess_Bank           0\n",
              "SettlementProcess_Card           0\n",
              "SettlementProcess_Check          0\n",
              "SettlementProcess_Electronic     0\n",
              "dtype: int64"
            ]
          },
          "metadata": {
            "tags": []
          },
          "execution_count": 21
        }
      ]
    },
    {
      "cell_type": "code",
      "metadata": {
        "colab": {
          "base_uri": "https://localhost:8080/",
          "height": 241
        },
        "id": "eG8gDh_QX2jB",
        "outputId": "9309c784-c1ca-49a8-aab8-30775324fe52"
      },
      "source": [
        "train1.head()"
      ],
      "execution_count": 22,
      "outputs": [
        {
          "output_type": "execute_result",
          "data": {
            "text/html": [
              "<div>\n",
              "<style scoped>\n",
              "    .dataframe tbody tr th:only-of-type {\n",
              "        vertical-align: middle;\n",
              "    }\n",
              "\n",
              "    .dataframe tbody tr th {\n",
              "        vertical-align: top;\n",
              "    }\n",
              "\n",
              "    .dataframe thead th {\n",
              "        text-align: right;\n",
              "    }\n",
              "</style>\n",
              "<table border=\"1\" class=\"dataframe\">\n",
              "  <thead>\n",
              "    <tr style=\"text-align: right;\">\n",
              "      <th></th>\n",
              "      <th>ID</th>\n",
              "      <th>sex</th>\n",
              "      <th>Aged</th>\n",
              "      <th>Married</th>\n",
              "      <th>TotalDependents</th>\n",
              "      <th>ServiceSpan</th>\n",
              "      <th>MobileService</th>\n",
              "      <th>CyberProtection</th>\n",
              "      <th>HardwareSupport</th>\n",
              "      <th>TechnicalAssistance</th>\n",
              "      <th>FilmSubscription</th>\n",
              "      <th>QuarterlyPayment</th>\n",
              "      <th>GrandPayment</th>\n",
              "      <th>CustomerAttrition</th>\n",
              "      <th>4GService_No</th>\n",
              "      <th>4GService_Satellite Broadband</th>\n",
              "      <th>4GService_Wifi Broadband</th>\n",
              "      <th>SettlementProcess_Bank</th>\n",
              "      <th>SettlementProcess_Card</th>\n",
              "      <th>SettlementProcess_Check</th>\n",
              "      <th>SettlementProcess_Electronic</th>\n",
              "    </tr>\n",
              "  </thead>\n",
              "  <tbody>\n",
              "    <tr>\n",
              "      <th>0</th>\n",
              "      <td>B60LHTZLLPFU4IULNPUF</td>\n",
              "      <td>1</td>\n",
              "      <td>0</td>\n",
              "      <td>0</td>\n",
              "      <td>1</td>\n",
              "      <td>48</td>\n",
              "      <td>1</td>\n",
              "      <td>0</td>\n",
              "      <td>1</td>\n",
              "      <td>1</td>\n",
              "      <td>0</td>\n",
              "      <td>96.259802</td>\n",
              "      <td>4628.129119</td>\n",
              "      <td>1</td>\n",
              "      <td>0</td>\n",
              "      <td>0</td>\n",
              "      <td>1</td>\n",
              "      <td>0</td>\n",
              "      <td>0</td>\n",
              "      <td>1</td>\n",
              "      <td>0</td>\n",
              "    </tr>\n",
              "    <tr>\n",
              "      <th>1</th>\n",
              "      <td>1RUJ7ONYZHYTWKOKO1SD</td>\n",
              "      <td>0</td>\n",
              "      <td>0</td>\n",
              "      <td>1</td>\n",
              "      <td>0</td>\n",
              "      <td>45</td>\n",
              "      <td>1</td>\n",
              "      <td>0</td>\n",
              "      <td>0</td>\n",
              "      <td>0</td>\n",
              "      <td>1</td>\n",
              "      <td>18.876470</td>\n",
              "      <td>922.085998</td>\n",
              "      <td>0</td>\n",
              "      <td>0</td>\n",
              "      <td>0</td>\n",
              "      <td>1</td>\n",
              "      <td>1</td>\n",
              "      <td>0</td>\n",
              "      <td>0</td>\n",
              "      <td>0</td>\n",
              "    </tr>\n",
              "    <tr>\n",
              "      <th>2</th>\n",
              "      <td>DZ9EEOQWSN0MYCBUPAM5</td>\n",
              "      <td>0</td>\n",
              "      <td>1</td>\n",
              "      <td>1</td>\n",
              "      <td>0</td>\n",
              "      <td>59</td>\n",
              "      <td>1</td>\n",
              "      <td>1</td>\n",
              "      <td>0</td>\n",
              "      <td>1</td>\n",
              "      <td>0</td>\n",
              "      <td>106.016057</td>\n",
              "      <td>6205.891129</td>\n",
              "      <td>1</td>\n",
              "      <td>0</td>\n",
              "      <td>0</td>\n",
              "      <td>1</td>\n",
              "      <td>0</td>\n",
              "      <td>1</td>\n",
              "      <td>0</td>\n",
              "      <td>0</td>\n",
              "    </tr>\n",
              "    <tr>\n",
              "      <th>3</th>\n",
              "      <td>YZ43L1UQUQACTL1PXXZG</td>\n",
              "      <td>0</td>\n",
              "      <td>0</td>\n",
              "      <td>0</td>\n",
              "      <td>0</td>\n",
              "      <td>14</td>\n",
              "      <td>1</td>\n",
              "      <td>0</td>\n",
              "      <td>0</td>\n",
              "      <td>0</td>\n",
              "      <td>0</td>\n",
              "      <td>80.108839</td>\n",
              "      <td>1248.655391</td>\n",
              "      <td>0</td>\n",
              "      <td>0</td>\n",
              "      <td>0</td>\n",
              "      <td>1</td>\n",
              "      <td>0</td>\n",
              "      <td>0</td>\n",
              "      <td>1</td>\n",
              "      <td>0</td>\n",
              "    </tr>\n",
              "    <tr>\n",
              "      <th>4</th>\n",
              "      <td>6P28152QGF60PDLSCB9M</td>\n",
              "      <td>1</td>\n",
              "      <td>0</td>\n",
              "      <td>1</td>\n",
              "      <td>1</td>\n",
              "      <td>25</td>\n",
              "      <td>1</td>\n",
              "      <td>0</td>\n",
              "      <td>1</td>\n",
              "      <td>0</td>\n",
              "      <td>1</td>\n",
              "      <td>51.529773</td>\n",
              "      <td>1285.321277</td>\n",
              "      <td>0</td>\n",
              "      <td>0</td>\n",
              "      <td>0</td>\n",
              "      <td>1</td>\n",
              "      <td>0</td>\n",
              "      <td>0</td>\n",
              "      <td>1</td>\n",
              "      <td>0</td>\n",
              "    </tr>\n",
              "  </tbody>\n",
              "</table>\n",
              "</div>"
            ],
            "text/plain": [
              "                     ID  ...  SettlementProcess_Electronic\n",
              "0  B60LHTZLLPFU4IULNPUF  ...                             0\n",
              "1  1RUJ7ONYZHYTWKOKO1SD  ...                             0\n",
              "2  DZ9EEOQWSN0MYCBUPAM5  ...                             0\n",
              "3  YZ43L1UQUQACTL1PXXZG  ...                             0\n",
              "4  6P28152QGF60PDLSCB9M  ...                             0\n",
              "\n",
              "[5 rows x 21 columns]"
            ]
          },
          "metadata": {
            "tags": []
          },
          "execution_count": 22
        }
      ]
    },
    {
      "cell_type": "code",
      "metadata": {
        "id": "3c7RVNw_dNb5"
      },
      "source": [
        "cols_to_scale = ['QuarterlyPayment', 'ServiceSpan', 'GrandPayment']\n",
        "\n",
        "from sklearn.preprocessing import MinMaxScaler\n",
        "scaler = MinMaxScaler()\n",
        "train1[cols_to_scale] = scaler.fit_transform(train1[cols_to_scale])\n"
      ],
      "execution_count": 46,
      "outputs": []
    },
    {
      "cell_type": "code",
      "metadata": {
        "colab": {
          "base_uri": "https://localhost:8080/"
        },
        "id": "Wu2y1W9Bdnwf",
        "outputId": "13fbba29-1249-4fed-977c-345fb8027a55"
      },
      "source": [
        "for col in train1:\n",
        "    print(f'{col}: {train1[col].unique()}')"
      ],
      "execution_count": 47,
      "outputs": [
        {
          "output_type": "stream",
          "text": [
            "sex: [1 0]\n",
            "Aged: [0 1]\n",
            "Married: [0 1]\n",
            "TotalDependents: [1 0]\n",
            "ServiceSpan: [0.66666667 0.62666667 0.81333333 0.21333333 0.36       0.38666667\n",
            " 0.73333333 0.02666667 0.04       0.64       0.92       0.34666667\n",
            " 0.84       0.74666667 0.14666667 0.42666667 0.26666667 0.09333333\n",
            " 0.88       0.06666667 0.57333333 0.56       0.44       0.30666667\n",
            " 0.22666667 0.10666667 0.94666667 0.98666667 0.46666667 0.97333333\n",
            " 0.05333333 0.50666667 0.13333333 0.52       0.48       0.4\n",
            " 0.01333333 0.82666667 0.32       0.93333333 0.17333333 0.54666667\n",
            " 0.8        0.16       0.69333333 0.08       0.61333333 0.68\n",
            " 0.53333333 0.76       0.70666667 0.24       0.89333333 0.2\n",
            " 0.37333333 0.28       0.78666667 0.96       1.         0.58666667\n",
            " 0.49333333 0.85333333 0.33333333 0.77333333 0.65333333 0.86666667\n",
            " 0.45333333 0.41333333 0.12       0.29333333 0.6        0.18666667\n",
            " 0.72       0.25333333 0.90666667 0.        ]\n",
            "MobileService: [1 0]\n",
            "CyberProtection: [0 1]\n",
            "HardwareSupport: [1 0]\n",
            "TechnicalAssistance: [1 0]\n",
            "FilmSubscription: [0 1]\n",
            "QuarterlyPayment: [0.76943351 0.02288707 0.86355581 ... 0.18752196 0.75499314 0.75088682]\n",
            "GrandPayment: [0.53195734 0.10447924 0.71394625 ... 0.06181213 0.52453864 0.66211552]\n",
            "CustomerAttrition: [1 0]\n",
            "4GService_No: [0 1]\n",
            "4GService_Satellite Broadband: [0 1]\n",
            "4GService_Wifi Broadband: [1 0]\n",
            "SettlementProcess_Bank: [0 1]\n",
            "SettlementProcess_Card: [0 1]\n",
            "SettlementProcess_Check: [1 0]\n",
            "SettlementProcess_Electronic: [0 1]\n"
          ],
          "name": "stdout"
        }
      ]
    },
    {
      "cell_type": "code",
      "metadata": {
        "colab": {
          "base_uri": "https://localhost:8080/"
        },
        "id": "cdm8OTJCX2jC",
        "outputId": "4e0b7501-0549-479b-8680-daa9bb2f59e2"
      },
      "source": [
        "#check for any missing or null values in the train data\n",
        "train1.isnull().values.any()"
      ],
      "execution_count": 26,
      "outputs": [
        {
          "output_type": "execute_result",
          "data": {
            "text/plain": [
              "False"
            ]
          },
          "metadata": {
            "tags": []
          },
          "execution_count": 26
        }
      ]
    },
    {
      "cell_type": "code",
      "metadata": {
        "id": "kA0UPdAeX2jD"
      },
      "source": [
        "#data.drop('ID',axis='columns' , inplace=True)\n",
        "train1.drop('ID' ,axis='columns', inplace=True)"
      ],
      "execution_count": 27,
      "outputs": []
    },
    {
      "cell_type": "code",
      "metadata": {
        "colab": {
          "base_uri": "https://localhost:8080/",
          "height": 241
        },
        "id": "_3mWKrwlX2jD",
        "outputId": "90ab88a5-c986-465b-e466-7894d971859b"
      },
      "source": [
        "train1.head()"
      ],
      "execution_count": 49,
      "outputs": [
        {
          "output_type": "execute_result",
          "data": {
            "text/html": [
              "<div>\n",
              "<style scoped>\n",
              "    .dataframe tbody tr th:only-of-type {\n",
              "        vertical-align: middle;\n",
              "    }\n",
              "\n",
              "    .dataframe tbody tr th {\n",
              "        vertical-align: top;\n",
              "    }\n",
              "\n",
              "    .dataframe thead th {\n",
              "        text-align: right;\n",
              "    }\n",
              "</style>\n",
              "<table border=\"1\" class=\"dataframe\">\n",
              "  <thead>\n",
              "    <tr style=\"text-align: right;\">\n",
              "      <th></th>\n",
              "      <th>sex</th>\n",
              "      <th>Aged</th>\n",
              "      <th>Married</th>\n",
              "      <th>TotalDependents</th>\n",
              "      <th>ServiceSpan</th>\n",
              "      <th>MobileService</th>\n",
              "      <th>CyberProtection</th>\n",
              "      <th>HardwareSupport</th>\n",
              "      <th>TechnicalAssistance</th>\n",
              "      <th>FilmSubscription</th>\n",
              "      <th>QuarterlyPayment</th>\n",
              "      <th>GrandPayment</th>\n",
              "      <th>CustomerAttrition</th>\n",
              "      <th>4GService_No</th>\n",
              "      <th>4GService_Satellite Broadband</th>\n",
              "      <th>4GService_Wifi Broadband</th>\n",
              "      <th>SettlementProcess_Bank</th>\n",
              "      <th>SettlementProcess_Card</th>\n",
              "      <th>SettlementProcess_Check</th>\n",
              "      <th>SettlementProcess_Electronic</th>\n",
              "    </tr>\n",
              "  </thead>\n",
              "  <tbody>\n",
              "    <tr>\n",
              "      <th>0</th>\n",
              "      <td>1</td>\n",
              "      <td>0</td>\n",
              "      <td>0</td>\n",
              "      <td>1</td>\n",
              "      <td>0.666667</td>\n",
              "      <td>1</td>\n",
              "      <td>0</td>\n",
              "      <td>1</td>\n",
              "      <td>1</td>\n",
              "      <td>0</td>\n",
              "      <td>0.769434</td>\n",
              "      <td>0.531957</td>\n",
              "      <td>1</td>\n",
              "      <td>0</td>\n",
              "      <td>0</td>\n",
              "      <td>1</td>\n",
              "      <td>0</td>\n",
              "      <td>0</td>\n",
              "      <td>1</td>\n",
              "      <td>0</td>\n",
              "    </tr>\n",
              "    <tr>\n",
              "      <th>1</th>\n",
              "      <td>0</td>\n",
              "      <td>0</td>\n",
              "      <td>1</td>\n",
              "      <td>0</td>\n",
              "      <td>0.626667</td>\n",
              "      <td>1</td>\n",
              "      <td>0</td>\n",
              "      <td>0</td>\n",
              "      <td>0</td>\n",
              "      <td>1</td>\n",
              "      <td>0.022887</td>\n",
              "      <td>0.104479</td>\n",
              "      <td>0</td>\n",
              "      <td>0</td>\n",
              "      <td>0</td>\n",
              "      <td>1</td>\n",
              "      <td>1</td>\n",
              "      <td>0</td>\n",
              "      <td>0</td>\n",
              "      <td>0</td>\n",
              "    </tr>\n",
              "    <tr>\n",
              "      <th>2</th>\n",
              "      <td>0</td>\n",
              "      <td>1</td>\n",
              "      <td>1</td>\n",
              "      <td>0</td>\n",
              "      <td>0.813333</td>\n",
              "      <td>1</td>\n",
              "      <td>1</td>\n",
              "      <td>0</td>\n",
              "      <td>1</td>\n",
              "      <td>0</td>\n",
              "      <td>0.863556</td>\n",
              "      <td>0.713946</td>\n",
              "      <td>1</td>\n",
              "      <td>0</td>\n",
              "      <td>0</td>\n",
              "      <td>1</td>\n",
              "      <td>0</td>\n",
              "      <td>1</td>\n",
              "      <td>0</td>\n",
              "      <td>0</td>\n",
              "    </tr>\n",
              "    <tr>\n",
              "      <th>3</th>\n",
              "      <td>0</td>\n",
              "      <td>0</td>\n",
              "      <td>0</td>\n",
              "      <td>0</td>\n",
              "      <td>0.213333</td>\n",
              "      <td>1</td>\n",
              "      <td>0</td>\n",
              "      <td>0</td>\n",
              "      <td>0</td>\n",
              "      <td>0</td>\n",
              "      <td>0.613619</td>\n",
              "      <td>0.142148</td>\n",
              "      <td>0</td>\n",
              "      <td>0</td>\n",
              "      <td>0</td>\n",
              "      <td>1</td>\n",
              "      <td>0</td>\n",
              "      <td>0</td>\n",
              "      <td>1</td>\n",
              "      <td>0</td>\n",
              "    </tr>\n",
              "    <tr>\n",
              "      <th>4</th>\n",
              "      <td>1</td>\n",
              "      <td>0</td>\n",
              "      <td>1</td>\n",
              "      <td>1</td>\n",
              "      <td>0.360000</td>\n",
              "      <td>1</td>\n",
              "      <td>0</td>\n",
              "      <td>1</td>\n",
              "      <td>0</td>\n",
              "      <td>1</td>\n",
              "      <td>0.337906</td>\n",
              "      <td>0.146377</td>\n",
              "      <td>0</td>\n",
              "      <td>0</td>\n",
              "      <td>0</td>\n",
              "      <td>1</td>\n",
              "      <td>0</td>\n",
              "      <td>0</td>\n",
              "      <td>1</td>\n",
              "      <td>0</td>\n",
              "    </tr>\n",
              "  </tbody>\n",
              "</table>\n",
              "</div>"
            ],
            "text/plain": [
              "   sex  Aged  ...  SettlementProcess_Check  SettlementProcess_Electronic\n",
              "0    1     0  ...                        1                             0\n",
              "1    0     0  ...                        0                             0\n",
              "2    0     1  ...                        0                             0\n",
              "3    0     0  ...                        1                             0\n",
              "4    1     0  ...                        1                             0\n",
              "\n",
              "[5 rows x 20 columns]"
            ]
          },
          "metadata": {
            "tags": []
          },
          "execution_count": 49
        }
      ]
    },
    {
      "cell_type": "code",
      "metadata": {
        "id": "yYb2eCX3X2jD"
      },
      "source": [
        "#Split the data into independent 'X' and dependent 'Y' variables\n",
        "#X = train1.iloc[:, 1:train1.shape[1]].values \n",
        "#Y = train1.iloc[:, 0].values"
      ],
      "execution_count": 29,
      "outputs": []
    },
    {
      "cell_type": "code",
      "metadata": {
        "id": "mKwxqDO3X2jE"
      },
      "source": [
        "X = train1.drop('CustomerAttrition',axis='columns')\n",
        "Y = train1['CustomerAttrition']\n",
        "\n",
        "# Split the dataset into 75% Training set and 25% Testing set\n",
        "from sklearn.model_selection import train_test_split\n",
        "X_train, X_test, Y_train, Y_test = train_test_split(X, Y, test_size = 0.25, random_state = 0)"
      ],
      "execution_count": 48,
      "outputs": []
    },
    {
      "cell_type": "code",
      "metadata": {
        "colab": {
          "base_uri": "https://localhost:8080/"
        },
        "id": "pQSvNb_HX2jE",
        "outputId": "d724a61b-54f6-46eb-c699-7acf27b0ecc0"
      },
      "source": [
        "X_train.shape"
      ],
      "execution_count": 50,
      "outputs": [
        {
          "output_type": "execute_result",
          "data": {
            "text/plain": [
              "(4753, 19)"
            ]
          },
          "metadata": {
            "tags": []
          },
          "execution_count": 50
        }
      ]
    },
    {
      "cell_type": "code",
      "metadata": {
        "colab": {
          "base_uri": "https://localhost:8080/"
        },
        "id": "53yzfWDtX2jG",
        "outputId": "643f42ab-a7a2-4ab2-ab59-0db41f659920"
      },
      "source": [
        "Y_train.shape"
      ],
      "execution_count": 51,
      "outputs": [
        {
          "output_type": "execute_result",
          "data": {
            "text/plain": [
              "(4753,)"
            ]
          },
          "metadata": {
            "tags": []
          },
          "execution_count": 51
        }
      ]
    },
    {
      "cell_type": "code",
      "metadata": {
        "colab": {
          "base_uri": "https://localhost:8080/"
        },
        "id": "5zPq0b5pX2jG",
        "outputId": "39cabb81-9d99-4dac-819d-e3f7d8205ff8"
      },
      "source": [
        "X_test.shape"
      ],
      "execution_count": 52,
      "outputs": [
        {
          "output_type": "execute_result",
          "data": {
            "text/plain": [
              "(1585, 19)"
            ]
          },
          "metadata": {
            "tags": []
          },
          "execution_count": 52
        }
      ]
    },
    {
      "cell_type": "code",
      "metadata": {
        "colab": {
          "base_uri": "https://localhost:8080/"
        },
        "id": "eKqTPdBLX2jG",
        "outputId": "ba44c00c-600e-4a04-ce7a-5f4486ba8400"
      },
      "source": [
        "Y_test.shape"
      ],
      "execution_count": 34,
      "outputs": [
        {
          "output_type": "execute_result",
          "data": {
            "text/plain": [
              "(1585,)"
            ]
          },
          "metadata": {
            "tags": []
          },
          "execution_count": 34
        }
      ]
    },
    {
      "cell_type": "code",
      "metadata": {
        "colab": {
          "base_uri": "https://localhost:8080/"
        },
        "id": "20cTY7KcX2jH",
        "outputId": "e309b427-eb6b-429d-edb3-3a4989a6d1dd"
      },
      "source": [
        "import tensorflow as tf\n",
        "from tensorflow import keras\n",
        "\n",
        "\n",
        "model = keras.Sequential([\n",
        "    keras.layers.Dense(19, input_shape=(19,), activation='relu'),\n",
        "    keras.layers.Dense(15, activation='relu'),\n",
        "    keras.layers.Dense(1, activation='sigmoid')\n",
        "])\n",
        "\n",
        "# opt = keras.optimizers.Adam(learning_rate=0.01)\n",
        "\n",
        "model.compile(optimizer='adam',\n",
        "              loss='binary_crossentropy',\n",
        "              metrics=['accuracy'])\n",
        "\n",
        "model.fit(X_train, Y_train, epochs=100)"
      ],
      "execution_count": 53,
      "outputs": [
        {
          "output_type": "stream",
          "text": [
            "Epoch 1/100\n",
            "149/149 [==============================] - 1s 1ms/step - loss: 0.6754 - accuracy: 0.5527\n",
            "Epoch 2/100\n",
            "149/149 [==============================] - 0s 1ms/step - loss: 0.5253 - accuracy: 0.7409\n",
            "Epoch 3/100\n",
            "149/149 [==============================] - 0s 1ms/step - loss: 0.4908 - accuracy: 0.7579\n",
            "Epoch 4/100\n",
            "149/149 [==============================] - 0s 1ms/step - loss: 0.4609 - accuracy: 0.7869\n",
            "Epoch 5/100\n",
            "149/149 [==============================] - 0s 2ms/step - loss: 0.4456 - accuracy: 0.7873\n",
            "Epoch 6/100\n",
            "149/149 [==============================] - 0s 1ms/step - loss: 0.4377 - accuracy: 0.7816\n",
            "Epoch 7/100\n",
            "149/149 [==============================] - 0s 1ms/step - loss: 0.4349 - accuracy: 0.7917\n",
            "Epoch 8/100\n",
            "149/149 [==============================] - 0s 1ms/step - loss: 0.4324 - accuracy: 0.7934\n",
            "Epoch 9/100\n",
            "149/149 [==============================] - 0s 1ms/step - loss: 0.4296 - accuracy: 0.7936\n",
            "Epoch 10/100\n",
            "149/149 [==============================] - 0s 1ms/step - loss: 0.4387 - accuracy: 0.7913\n",
            "Epoch 11/100\n",
            "149/149 [==============================] - 0s 1ms/step - loss: 0.4353 - accuracy: 0.7868\n",
            "Epoch 12/100\n",
            "149/149 [==============================] - 0s 1ms/step - loss: 0.4293 - accuracy: 0.7903\n",
            "Epoch 13/100\n",
            "149/149 [==============================] - 0s 1ms/step - loss: 0.4179 - accuracy: 0.7937\n",
            "Epoch 14/100\n",
            "149/149 [==============================] - 0s 1ms/step - loss: 0.4248 - accuracy: 0.7970\n",
            "Epoch 15/100\n",
            "149/149 [==============================] - 0s 1ms/step - loss: 0.4254 - accuracy: 0.7895\n",
            "Epoch 16/100\n",
            "149/149 [==============================] - 0s 1ms/step - loss: 0.4307 - accuracy: 0.7859\n",
            "Epoch 17/100\n",
            "149/149 [==============================] - 0s 1ms/step - loss: 0.4303 - accuracy: 0.7927\n",
            "Epoch 18/100\n",
            "149/149 [==============================] - 0s 1ms/step - loss: 0.4285 - accuracy: 0.7900\n",
            "Epoch 19/100\n",
            "149/149 [==============================] - 0s 1ms/step - loss: 0.4113 - accuracy: 0.8062\n",
            "Epoch 20/100\n",
            "149/149 [==============================] - 0s 1ms/step - loss: 0.4183 - accuracy: 0.7978\n",
            "Epoch 21/100\n",
            "149/149 [==============================] - 0s 1ms/step - loss: 0.4272 - accuracy: 0.7916\n",
            "Epoch 22/100\n",
            "149/149 [==============================] - 0s 1ms/step - loss: 0.4171 - accuracy: 0.8026\n",
            "Epoch 23/100\n",
            "149/149 [==============================] - 0s 1ms/step - loss: 0.4267 - accuracy: 0.7881\n",
            "Epoch 24/100\n",
            "149/149 [==============================] - 0s 1ms/step - loss: 0.4188 - accuracy: 0.8054\n",
            "Epoch 25/100\n",
            "149/149 [==============================] - 0s 1ms/step - loss: 0.4237 - accuracy: 0.7887\n",
            "Epoch 26/100\n",
            "149/149 [==============================] - 0s 1ms/step - loss: 0.4166 - accuracy: 0.8001\n",
            "Epoch 27/100\n",
            "149/149 [==============================] - 0s 1ms/step - loss: 0.4289 - accuracy: 0.7882\n",
            "Epoch 28/100\n",
            "149/149 [==============================] - 0s 1ms/step - loss: 0.4110 - accuracy: 0.8014\n",
            "Epoch 29/100\n",
            "149/149 [==============================] - 0s 1ms/step - loss: 0.4090 - accuracy: 0.8084\n",
            "Epoch 30/100\n",
            "149/149 [==============================] - 0s 1ms/step - loss: 0.4239 - accuracy: 0.7980\n",
            "Epoch 31/100\n",
            "149/149 [==============================] - 0s 1ms/step - loss: 0.4201 - accuracy: 0.7979\n",
            "Epoch 32/100\n",
            "149/149 [==============================] - 0s 1ms/step - loss: 0.4224 - accuracy: 0.7950\n",
            "Epoch 33/100\n",
            "149/149 [==============================] - 0s 1ms/step - loss: 0.4150 - accuracy: 0.8008\n",
            "Epoch 34/100\n",
            "149/149 [==============================] - 0s 1ms/step - loss: 0.4100 - accuracy: 0.8022\n",
            "Epoch 35/100\n",
            "149/149 [==============================] - 0s 1ms/step - loss: 0.4131 - accuracy: 0.8010\n",
            "Epoch 36/100\n",
            "149/149 [==============================] - 0s 1ms/step - loss: 0.4185 - accuracy: 0.7964\n",
            "Epoch 37/100\n",
            "149/149 [==============================] - 0s 1ms/step - loss: 0.4083 - accuracy: 0.8064\n",
            "Epoch 38/100\n",
            "149/149 [==============================] - 0s 1ms/step - loss: 0.4174 - accuracy: 0.7979\n",
            "Epoch 39/100\n",
            "149/149 [==============================] - 0s 1ms/step - loss: 0.4156 - accuracy: 0.8003\n",
            "Epoch 40/100\n",
            "149/149 [==============================] - 0s 1ms/step - loss: 0.4059 - accuracy: 0.8095\n",
            "Epoch 41/100\n",
            "149/149 [==============================] - 0s 1ms/step - loss: 0.4069 - accuracy: 0.8035\n",
            "Epoch 42/100\n",
            "149/149 [==============================] - 0s 1ms/step - loss: 0.4120 - accuracy: 0.8035\n",
            "Epoch 43/100\n",
            "149/149 [==============================] - 0s 1ms/step - loss: 0.4029 - accuracy: 0.8133\n",
            "Epoch 44/100\n",
            "149/149 [==============================] - 0s 1ms/step - loss: 0.4063 - accuracy: 0.8029\n",
            "Epoch 45/100\n",
            "149/149 [==============================] - 0s 1ms/step - loss: 0.4160 - accuracy: 0.7942\n",
            "Epoch 46/100\n",
            "149/149 [==============================] - 0s 1ms/step - loss: 0.4091 - accuracy: 0.8055\n",
            "Epoch 47/100\n",
            "149/149 [==============================] - 0s 1ms/step - loss: 0.4215 - accuracy: 0.8006\n",
            "Epoch 48/100\n",
            "149/149 [==============================] - 0s 1ms/step - loss: 0.4213 - accuracy: 0.8027\n",
            "Epoch 49/100\n",
            "149/149 [==============================] - 0s 1ms/step - loss: 0.4046 - accuracy: 0.8008\n",
            "Epoch 50/100\n",
            "149/149 [==============================] - 0s 1ms/step - loss: 0.4214 - accuracy: 0.7990\n",
            "Epoch 51/100\n",
            "149/149 [==============================] - 0s 1ms/step - loss: 0.4162 - accuracy: 0.8010\n",
            "Epoch 52/100\n",
            "149/149 [==============================] - 0s 1ms/step - loss: 0.4029 - accuracy: 0.8088\n",
            "Epoch 53/100\n",
            "149/149 [==============================] - 0s 1ms/step - loss: 0.4234 - accuracy: 0.7984\n",
            "Epoch 54/100\n",
            "149/149 [==============================] - 0s 1ms/step - loss: 0.3961 - accuracy: 0.8071\n",
            "Epoch 55/100\n",
            "149/149 [==============================] - 0s 1ms/step - loss: 0.4269 - accuracy: 0.7977\n",
            "Epoch 56/100\n",
            "149/149 [==============================] - 0s 1ms/step - loss: 0.3980 - accuracy: 0.8073\n",
            "Epoch 57/100\n",
            "149/149 [==============================] - 0s 1ms/step - loss: 0.4086 - accuracy: 0.8105\n",
            "Epoch 58/100\n",
            "149/149 [==============================] - 0s 1ms/step - loss: 0.4100 - accuracy: 0.8036\n",
            "Epoch 59/100\n",
            "149/149 [==============================] - 0s 1ms/step - loss: 0.4181 - accuracy: 0.8018\n",
            "Epoch 60/100\n",
            "149/149 [==============================] - 0s 1ms/step - loss: 0.3981 - accuracy: 0.8111\n",
            "Epoch 61/100\n",
            "149/149 [==============================] - 0s 1ms/step - loss: 0.4113 - accuracy: 0.7980\n",
            "Epoch 62/100\n",
            "149/149 [==============================] - 0s 2ms/step - loss: 0.3996 - accuracy: 0.7999\n",
            "Epoch 63/100\n",
            "149/149 [==============================] - 0s 1ms/step - loss: 0.3923 - accuracy: 0.8116\n",
            "Epoch 64/100\n",
            "149/149 [==============================] - 0s 1ms/step - loss: 0.3902 - accuracy: 0.8137\n",
            "Epoch 65/100\n",
            "149/149 [==============================] - 0s 1ms/step - loss: 0.3929 - accuracy: 0.8118\n",
            "Epoch 66/100\n",
            "149/149 [==============================] - 0s 1ms/step - loss: 0.4098 - accuracy: 0.7948\n",
            "Epoch 67/100\n",
            "149/149 [==============================] - 0s 1ms/step - loss: 0.4140 - accuracy: 0.7947\n",
            "Epoch 68/100\n",
            "149/149 [==============================] - 0s 1ms/step - loss: 0.4052 - accuracy: 0.8055\n",
            "Epoch 69/100\n",
            "149/149 [==============================] - 0s 1ms/step - loss: 0.3981 - accuracy: 0.8095\n",
            "Epoch 70/100\n",
            "149/149 [==============================] - 0s 1ms/step - loss: 0.4035 - accuracy: 0.8077\n",
            "Epoch 71/100\n",
            "149/149 [==============================] - 0s 1ms/step - loss: 0.4006 - accuracy: 0.8006\n",
            "Epoch 72/100\n",
            "149/149 [==============================] - 0s 1ms/step - loss: 0.4059 - accuracy: 0.7956\n",
            "Epoch 73/100\n",
            "149/149 [==============================] - 0s 1ms/step - loss: 0.4047 - accuracy: 0.8036\n",
            "Epoch 74/100\n",
            "149/149 [==============================] - 0s 2ms/step - loss: 0.4075 - accuracy: 0.7991\n",
            "Epoch 75/100\n",
            "149/149 [==============================] - 0s 1ms/step - loss: 0.3843 - accuracy: 0.8179\n",
            "Epoch 76/100\n",
            "149/149 [==============================] - 0s 1ms/step - loss: 0.4061 - accuracy: 0.8036\n",
            "Epoch 77/100\n",
            "149/149 [==============================] - 0s 1ms/step - loss: 0.3989 - accuracy: 0.8052\n",
            "Epoch 78/100\n",
            "149/149 [==============================] - 0s 1ms/step - loss: 0.3991 - accuracy: 0.7992\n",
            "Epoch 79/100\n",
            "149/149 [==============================] - 0s 1ms/step - loss: 0.4002 - accuracy: 0.8127\n",
            "Epoch 80/100\n",
            "149/149 [==============================] - 0s 1ms/step - loss: 0.3963 - accuracy: 0.8015\n",
            "Epoch 81/100\n",
            "149/149 [==============================] - 0s 1ms/step - loss: 0.3892 - accuracy: 0.8122\n",
            "Epoch 82/100\n",
            "149/149 [==============================] - 0s 2ms/step - loss: 0.3971 - accuracy: 0.8039\n",
            "Epoch 83/100\n",
            "149/149 [==============================] - 0s 1ms/step - loss: 0.3930 - accuracy: 0.8097\n",
            "Epoch 84/100\n",
            "149/149 [==============================] - 0s 1ms/step - loss: 0.4133 - accuracy: 0.7968\n",
            "Epoch 85/100\n",
            "149/149 [==============================] - 0s 1ms/step - loss: 0.3841 - accuracy: 0.8149\n",
            "Epoch 86/100\n",
            "149/149 [==============================] - 0s 1ms/step - loss: 0.3873 - accuracy: 0.8094\n",
            "Epoch 87/100\n",
            "149/149 [==============================] - 0s 1ms/step - loss: 0.3981 - accuracy: 0.8117\n",
            "Epoch 88/100\n",
            "149/149 [==============================] - 0s 1ms/step - loss: 0.3885 - accuracy: 0.8100\n",
            "Epoch 89/100\n",
            "149/149 [==============================] - 0s 1ms/step - loss: 0.4040 - accuracy: 0.8059\n",
            "Epoch 90/100\n",
            "149/149 [==============================] - 0s 1ms/step - loss: 0.3963 - accuracy: 0.8073\n",
            "Epoch 91/100\n",
            "149/149 [==============================] - 0s 1ms/step - loss: 0.3901 - accuracy: 0.8128\n",
            "Epoch 92/100\n",
            "149/149 [==============================] - 0s 1ms/step - loss: 0.3985 - accuracy: 0.8033\n",
            "Epoch 93/100\n",
            "149/149 [==============================] - 0s 1ms/step - loss: 0.3967 - accuracy: 0.8075\n",
            "Epoch 94/100\n",
            "149/149 [==============================] - 0s 1ms/step - loss: 0.3850 - accuracy: 0.8132\n",
            "Epoch 95/100\n",
            "149/149 [==============================] - 0s 1ms/step - loss: 0.3976 - accuracy: 0.8051\n",
            "Epoch 96/100\n",
            "149/149 [==============================] - 0s 1ms/step - loss: 0.3906 - accuracy: 0.8124\n",
            "Epoch 97/100\n",
            "149/149 [==============================] - 0s 2ms/step - loss: 0.3971 - accuracy: 0.8080\n",
            "Epoch 98/100\n",
            "149/149 [==============================] - 0s 1ms/step - loss: 0.3873 - accuracy: 0.8109\n",
            "Epoch 99/100\n",
            "149/149 [==============================] - 0s 1ms/step - loss: 0.4057 - accuracy: 0.7992\n",
            "Epoch 100/100\n",
            "149/149 [==============================] - 0s 2ms/step - loss: 0.3891 - accuracy: 0.8169\n"
          ],
          "name": "stdout"
        },
        {
          "output_type": "execute_result",
          "data": {
            "text/plain": [
              "<tensorflow.python.keras.callbacks.History at 0x7fcd7fc99dd0>"
            ]
          },
          "metadata": {
            "tags": []
          },
          "execution_count": 53
        }
      ]
    },
    {
      "cell_type": "code",
      "metadata": {
        "colab": {
          "base_uri": "https://localhost:8080/"
        },
        "id": "MRfSkD5hX2jH",
        "outputId": "c75efe08-780f-4b5c-f119-dcfc778e4d79"
      },
      "source": [
        "model.evaluate(X_test, Y_test)"
      ],
      "execution_count": 54,
      "outputs": [
        {
          "output_type": "stream",
          "text": [
            "50/50 [==============================] - 0s 1ms/step - loss: 0.4595 - accuracy: 0.7912\n"
          ],
          "name": "stdout"
        },
        {
          "output_type": "execute_result",
          "data": {
            "text/plain": [
              "[0.4594690501689911, 0.7911671996116638]"
            ]
          },
          "metadata": {
            "tags": []
          },
          "execution_count": 54
        }
      ]
    },
    {
      "cell_type": "code",
      "metadata": {
        "colab": {
          "base_uri": "https://localhost:8080/"
        },
        "id": "FMmwd13KblKz",
        "outputId": "8e46a542-52d0-4a86-9420-a8984e4a7f89"
      },
      "source": [
        "yp = model.predict(X_test)\n",
        "yp[:5]"
      ],
      "execution_count": 55,
      "outputs": [
        {
          "output_type": "execute_result",
          "data": {
            "text/plain": [
              "array([[0.20840806],\n",
              "       [0.5022308 ],\n",
              "       [0.4149006 ],\n",
              "       [0.21993455],\n",
              "       [0.86266804]], dtype=float32)"
            ]
          },
          "metadata": {
            "tags": []
          },
          "execution_count": 55
        }
      ]
    },
    {
      "cell_type": "code",
      "metadata": {
        "id": "vCxMfUk9bpMb"
      },
      "source": [
        "y_pred = []\n",
        "for element in yp:\n",
        "    if element > 0.5:\n",
        "        y_pred.append(1)\n",
        "    else:\n",
        "        y_pred.append(0)"
      ],
      "execution_count": 56,
      "outputs": []
    },
    {
      "cell_type": "code",
      "metadata": {
        "colab": {
          "base_uri": "https://localhost:8080/"
        },
        "id": "uNGDIYDIbuwl",
        "outputId": "f72e35c7-521f-4290-9893-bd60e95327c4"
      },
      "source": [
        "y_pred[:10]"
      ],
      "execution_count": 57,
      "outputs": [
        {
          "output_type": "execute_result",
          "data": {
            "text/plain": [
              "[0, 1, 0, 0, 1, 0, 0, 0, 0, 0]"
            ]
          },
          "metadata": {
            "tags": []
          },
          "execution_count": 57
        }
      ]
    },
    {
      "cell_type": "code",
      "metadata": {
        "colab": {
          "base_uri": "https://localhost:8080/"
        },
        "id": "tCq3e7nrbuzh",
        "outputId": "318b15a3-2d29-4935-86d4-65c46cfac38c"
      },
      "source": [
        "Y_test[:10]"
      ],
      "execution_count": 58,
      "outputs": [
        {
          "output_type": "execute_result",
          "data": {
            "text/plain": [
              "6135    0\n",
              "733     1\n",
              "3352    0\n",
              "3312    0\n",
              "6076    0\n",
              "5135    0\n",
              "1824    0\n",
              "2817    0\n",
              "3420    0\n",
              "3540    1\n",
              "Name: CustomerAttrition, dtype: int64"
            ]
          },
          "metadata": {
            "tags": []
          },
          "execution_count": 58
        }
      ]
    },
    {
      "cell_type": "code",
      "metadata": {
        "colab": {
          "base_uri": "https://localhost:8080/"
        },
        "id": "cE-eC5jRb6LL",
        "outputId": "a449f00f-e53d-4f00-c539-46889deb7958"
      },
      "source": [
        "from sklearn.metrics import confusion_matrix , classification_report\n",
        "\n",
        "print(classification_report(Y_test,y_pred))"
      ],
      "execution_count": 59,
      "outputs": [
        {
          "output_type": "stream",
          "text": [
            "              precision    recall  f1-score   support\n",
            "\n",
            "           0       0.83      0.89      0.86      1162\n",
            "           1       0.64      0.51      0.57       423\n",
            "\n",
            "    accuracy                           0.79      1585\n",
            "   macro avg       0.73      0.70      0.71      1585\n",
            "weighted avg       0.78      0.79      0.78      1585\n",
            "\n"
          ],
          "name": "stdout"
        }
      ]
    },
    {
      "cell_type": "code",
      "metadata": {
        "colab": {
          "base_uri": "https://localhost:8080/",
          "height": 459
        },
        "id": "MgFhvO5vcBZj",
        "outputId": "00813b0d-33a9-430c-db25-8385847784a9"
      },
      "source": [
        "import seaborn as sn\n",
        "cm = tf.math.confusion_matrix(labels=Y_test,predictions=y_pred)\n",
        "\n",
        "plt.figure(figsize = (10,7))\n",
        "sn.heatmap(cm, annot=True, fmt='d')\n",
        "plt.xlabel('Predicted')\n",
        "plt.ylabel('Truth')"
      ],
      "execution_count": 60,
      "outputs": [
        {
          "output_type": "execute_result",
          "data": {
            "text/plain": [
              "Text(69.0, 0.5, 'Truth')"
            ]
          },
          "metadata": {
            "tags": []
          },
          "execution_count": 60
        },
        {
          "output_type": "display_data",
          "data": {
            "image/png": "[encoded data removed]",
            "text/plain": [
              "<Figure size 720x504 with 2 Axes>"
            ]
          },
          "metadata": {
            "tags": [],
            "needs_background": "light"
          }
        }
      ]
    },
    {
      "cell_type": "code",
      "metadata": {
        "colab": {
          "base_uri": "https://localhost:8080/"
        },
        "id": "-lhqpZhRcPuP",
        "outputId": "debf5671-cb8e-4e04-a9bc-aa8489a0f6e1"
      },
      "source": [
        "round((1039+215)/(1039+123+208+215),2)"
      ],
      "execution_count": 61,
      "outputs": [
        {
          "output_type": "execute_result",
          "data": {
            "text/plain": [
              "0.79"
            ]
          },
          "metadata": {
            "tags": []
          },
          "execution_count": 61
        }
      ]
    }
  ]
}